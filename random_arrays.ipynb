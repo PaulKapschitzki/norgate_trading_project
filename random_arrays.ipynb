{
 "cells": [
  {
   "cell_type": "markdown",
   "id": "bebbbd3a",
   "metadata": {},
   "source": [
    "# Zufällige Arrays mit NumPy\n",
    "\n",
    "Dieses Notebook demonstriert die Erstellung und Verwendung von zufälligen Arrays mit NumPy."
   ]
  },
  {
   "cell_type": "markdown",
   "id": "9e09a835",
   "metadata": {},
   "source": [
    "## Import der benötigten Bibliotheken\n",
    "\n",
    "Wir importieren NumPy für die Arbeit mit Arrays und zufälligen Zahlen."
   ]
  },
  {
   "cell_type": "code",
   "execution_count": 1,
   "id": "128499a1",
   "metadata": {},
   "outputs": [],
   "source": [
    "import numpy as np"
   ]
  },
  {
   "cell_type": "markdown",
   "id": "0052e85d",
   "metadata": {},
   "source": [
    "## Setzen des Seeds für den Zufallszahlengenerator\n",
    "\n",
    "Um reproduzierbare Ergebnisse zu erhalten, setzen wir einen festen Seed-Wert."
   ]
  },
  {
   "cell_type": "code",
   "execution_count": 2,
   "id": "ecbb4bf0",
   "metadata": {},
   "outputs": [],
   "source": [
    "# Seed für Reproduzierbarkeit setzen\n",
    "np.random.seed(42)"
   ]
  },
  {
   "cell_type": "markdown",
   "id": "cb4f46e9",
   "metadata": {},
   "source": [
    "## Erstellen von zufälligen Arrays\n",
    "\n",
    "Wir erstellen verschiedene Arten von zufälligen Arrays mit unterschiedlichen Dimensionen."
   ]
  },
  {
   "cell_type": "code",
   "execution_count": 3,
   "id": "787133ef",
   "metadata": {},
   "outputs": [
    {
     "name": "stdout",
     "output_type": "stream",
     "text": [
      "1D Array:\n",
      "[0.37454012 0.95071431 0.73199394 0.59865848 0.15601864 0.15599452\n",
      " 0.05808361 0.86617615 0.60111501 0.70807258]\n",
      "\n",
      "2D Array:\n",
      "[[0.02058449 0.96990985 0.83244264 0.21233911]\n",
      " [0.18182497 0.18340451 0.30424224 0.52475643]\n",
      " [0.43194502 0.29122914 0.61185289 0.13949386]]\n",
      "\n",
      "3D Array:\n",
      "[[[0.29214465 0.36636184]\n",
      "  [0.45606998 0.78517596]\n",
      "  [0.19967378 0.51423444]]\n",
      "\n",
      " [[0.59241457 0.04645041]\n",
      "  [0.60754485 0.17052412]\n",
      "  [0.06505159 0.94888554]]]\n"
     ]
    }
   ],
   "source": [
    "# 1D Array mit 10 zufälligen Zahlen zwischen 0 und 1\n",
    "array_1d = np.random.rand(10)\n",
    "print(\"1D Array:\")\n",
    "print(array_1d)\n",
    "\n",
    "# 2D Array (Matrix) mit 3x4 zufälligen Zahlen\n",
    "array_2d = np.random.rand(3, 4)\n",
    "print(\"\\n2D Array:\")\n",
    "print(array_2d)\n",
    "\n",
    "# 3D Array mit 2x3x2 zufälligen Zahlen\n",
    "array_3d = np.random.rand(2, 3, 2)\n",
    "print(\"\\n3D Array:\")\n",
    "print(array_3d)"
   ]
  },
  {
   "cell_type": "markdown",
   "id": "1825bff6",
   "metadata": {},
   "source": [
    "## Generieren von zufälligen Ganzzahlen\n",
    "\n",
    "Demonstration der Verwendung von randint() für die Generierung zufälliger Ganzzahlen."
   ]
  },
  {
   "cell_type": "code",
   "execution_count": 4,
   "id": "edbde461",
   "metadata": {},
   "outputs": [
    {
     "name": "stdout",
     "output_type": "stream",
     "text": [
      "Zufällige Ganzzahlen:\n",
      "[60 14  9 90 53  2 84 92 60 71]\n",
      "\n",
      "Zufällige Ganzzahlen (2D):\n",
      "[[44  8 47 35]\n",
      " [78 81 36 50]\n",
      " [ 4  2  6 54]\n",
      " [ 4 54 93 63]]\n"
     ]
    }
   ],
   "source": [
    "# Zufällige Ganzzahlen zwischen 1 und 100 (10 Zahlen)\n",
    "random_integers = np.random.randint(1, 101, size=10)\n",
    "print(\"Zufällige Ganzzahlen:\")\n",
    "print(random_integers)\n",
    "\n",
    "# 2D Array mit zufälligen Ganzzahlen\n",
    "random_integers_2d = np.random.randint(1, 101, size=(4, 4))\n",
    "print(\"\\nZufällige Ganzzahlen (2D):\")\n",
    "print(random_integers_2d)"
   ]
  },
  {
   "cell_type": "markdown",
   "id": "1bc2ed42",
   "metadata": {},
   "source": [
    "### Zusammenfassung\n",
    "In diesem Notebook haben wir gelernt:\n",
    "- Wie man NumPy für Zufallszahlen verwendet\n",
    "- Wie man den Seed für Reproduzierbarkeit setzt\n",
    "- Wie man verschiedene Arten von zufälligen Arrays erstellt\n",
    "- Wie man zufällige Ganzzahlen generiert"
   ]
  }
 ],
 "metadata": {
  "kernelspec": {
   "display_name": "tradermind",
   "language": "python",
   "name": "python3"
  },
  "language_info": {
   "codemirror_mode": {
    "name": "ipython",
    "version": 3
   },
   "file_extension": ".py",
   "mimetype": "text/x-python",
   "name": "python",
   "nbconvert_exporter": "python",
   "pygments_lexer": "ipython3",
   "version": "3.12.9"
  }
 },
 "nbformat": 4,
 "nbformat_minor": 5
}
